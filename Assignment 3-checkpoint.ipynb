{
 "cells": [
  {
   "cell_type": "markdown",
   "id": "775facd9-d9dd-45af-8954-6c7ebd1d46c3",
   "metadata": {},
   "source": [
    "**Assignment 3**"
   ]
  },
  {
   "cell_type": "markdown",
   "id": "e2e295bb-0b26-4a39-8003-1e64b06faa3c",
   "metadata": {},
   "source": [
    "**Qno1 : Write a Python program to print the following string in a specific format (see the\n",
    "output)**"
   ]
  },
  {
   "cell_type": "code",
   "execution_count": 4,
   "id": "d4b43fea-1499-43cd-96fc-b46afa29ccee",
   "metadata": {},
   "outputs": [
    {
     "name": "stdout",
     "output_type": "stream",
     "text": [
      "Twinkle, twinkle, little star,\n",
      "                  How I wonder what you are!\n",
      "                          Up above the world so high,\n",
      "                          Like a diamond in the sky.\n",
      "Twinkle, twinkle, little star,\n",
      "         How I wonder what you are\n"
     ]
    }
   ],
   "source": [
    "print(\"\"\"Twinkle, twinkle, little star,\n",
    "                  How I wonder what you are!\n",
    "                          Up above the world so high,\n",
    "                          Like a diamond in the sky.\n",
    "Twinkle, twinkle, little star,\n",
    "         How I wonder what you are\"\"\")"
   ]
  },
  {
   "cell_type": "code",
   "execution_count": 5,
   "id": "77a776e0-aa2a-4a24-987f-6d849697e7cb",
   "metadata": {},
   "outputs": [
    {
     "name": "stdout",
     "output_type": "stream",
     "text": [
      "Twinkle, twinkle, little star,\n",
      "\t How I wonder what you are!\n",
      "\t\tUp above thw world so high,\n",
      "\t\t Like a diamond in the sky,\n",
      "Twinkle, twinkle, little star,\n",
      "\tHow I wonder what you are\n"
     ]
    }
   ],
   "source": [
    "print(\"\"\"Twinkle, twinkle, little star,\n",
    "\\t How I wonder what you are!\n",
    "\\t\\tUp above thw world so high,\n",
    "\\t\\t Like a diamond in the sky,\n",
    "Twinkle, twinkle, little star,\n",
    "\\tHow I wonder what you are\"\"\")"
   ]
  },
  {
   "cell_type": "markdown",
   "id": "827c8b8a-7c69-46d5-b98c-7b4a68829680",
   "metadata": {},
   "source": [
    "**Qno2: Write a Python program to get the Python version you are using**"
   ]
  },
  {
   "cell_type": "code",
   "execution_count": 6,
   "id": "ccdb9c16-930d-4ddc-bfff-3b93820e84d1",
   "metadata": {},
   "outputs": [],
   "source": [
    "import sys"
   ]
  },
  {
   "cell_type": "code",
   "execution_count": 7,
   "id": "5479c3dd-501c-483f-a935-207e587590ae",
   "metadata": {},
   "outputs": [
    {
     "name": "stdout",
     "output_type": "stream",
     "text": [
      "My python version is:  3.12.4 | packaged by Anaconda, Inc. | (main, Jun 18 2024, 15:03:56) [MSC v.1929 64 bit (AMD64)]\n"
     ]
    }
   ],
   "source": [
    "print(\"My python version is: \", sys.version)"
   ]
  },
  {
   "cell_type": "markdown",
   "id": "c4e48a85-1127-4ad7-90b4-d098ca3f34af",
   "metadata": {},
   "source": [
    "**Qno3: Write a Python program to display the current date and time.**"
   ]
  },
  {
   "cell_type": "code",
   "execution_count": 10,
   "id": "6072b41d-f617-4693-ac53-249125bd4861",
   "metadata": {},
   "outputs": [
    {
     "name": "stdout",
     "output_type": "stream",
     "text": [
      "Current date and time is 2024-08-03 10:20:39.137733\n"
     ]
    }
   ],
   "source": [
    "from datetime import datetime\n",
    "print(\"Current date and time is\",datetime.now())"
   ]
  },
  {
   "cell_type": "markdown",
   "id": "0e03ad7a-9961-4f08-89ca-30faef70d563",
   "metadata": {},
   "source": [
    "**Qno4. Write a Python program which accepts the radius of a circle from the user and compute\n",
    "the area.**"
   ]
  },
  {
   "cell_type": "code",
   "execution_count": 13,
   "id": "44b212c1-26ae-4456-968d-65ebb4394339",
   "metadata": {},
   "outputs": [
    {
     "name": "stdin",
     "output_type": "stream",
     "text": [
      "Enter the radius of circle:  5\n"
     ]
    },
    {
     "name": "stdout",
     "output_type": "stream",
     "text": [
      "The area of circle is: 78.53981633974483\n"
     ]
    }
   ],
   "source": [
    "import math as m\n",
    "r = float(input(\"Enter the radius of circle: \"))\n",
    "area = m.pi*(r**2)\n",
    "print(\"The area of circle is:\",area)"
   ]
  },
  {
   "cell_type": "markdown",
   "id": "19f9b702-662a-49ec-8368-a6ad155c76e5",
   "metadata": {},
   "source": [
    "**Qno5. Write a Python program which accepts the user's first and last name and print them in\n",
    "reverse order with a space between them**"
   ]
  },
  {
   "cell_type": "code",
   "execution_count": 15,
   "id": "e67b39ec-f746-4ae7-a1eb-ab6dd78f3b74",
   "metadata": {},
   "outputs": [
    {
     "name": "stdin",
     "output_type": "stream",
     "text": [
      "Enter your first name:  Zaryab\n",
      "Enter your last name:  Khan\n"
     ]
    },
    {
     "name": "stdout",
     "output_type": "stream",
     "text": [
      "Khan   Zaryab\n"
     ]
    }
   ],
   "source": [
    "x = str(input(\"Enter your first name: \"))\n",
    "y = str(input(\"Enter your last name: \"))\n",
    "print(y,\" \",x)"
   ]
  },
  {
   "cell_type": "markdown",
   "id": "097effbd-a718-4652-bf8f-81e0d2495370",
   "metadata": {},
   "source": [
    "**Qno6. Write a python program which takes two inputs from user and print them addition**"
   ]
  },
  {
   "cell_type": "code",
   "execution_count": 16,
   "id": "44879530-5319-43c4-b56e-7cc46cdb62ff",
   "metadata": {},
   "outputs": [
    {
     "name": "stdin",
     "output_type": "stream",
     "text": [
      "Enter 1st num: 5.5\n",
      "Enter 2nd num: 6\n"
     ]
    },
    {
     "name": "stdout",
     "output_type": "stream",
     "text": [
      "sum = 11.5\n"
     ]
    }
   ],
   "source": [
    "x = float(input(\"Enter 1st num:\"))\n",
    "y= float(input(\"Enter 2nd num:\"))\n",
    "print(\"sum =\",x+y)"
   ]
  },
  {
   "cell_type": "markdown",
   "id": "c916fd29-139e-4224-83d0-8d735dc02a40",
   "metadata": {},
   "source": [
    "**Qno7. Write a program which takes 5 inputs from user for different subject’s marks, total it\n",
    "and generate mark sheet using grades**"
   ]
  },
  {
   "cell_type": "code",
   "execution_count": 22,
   "id": "2a664ffb-2ab1-4f3d-b96f-9cfdd9eb8667",
   "metadata": {},
   "outputs": [
    {
     "name": "stdin",
     "output_type": "stream",
     "text": [
      "Enter marks of 1st Subj : 95\n",
      "Enter marks of 2nd Subj : 65\n",
      "Enter marks of 3rd Subj : 87\n",
      "Enter marks of 4th Subj : 96\n",
      "Enter marks of 5th Subj : 80\n",
      "Enter the total marks: 500\n"
     ]
    },
    {
     "name": "stdout",
     "output_type": "stream",
     "text": [
      "Total Marks = 500.0 \n",
      "Obtained Marks= 423.0 \n",
      "Percetage= 84.6 % \n",
      "Grade= A+\n"
     ]
    }
   ],
   "source": [
    "subj1 = float(input(\"Enter marks of 1st Subj :\")) \n",
    "subj2 = float(input(\"Enter marks of 2nd Subj :\")) \n",
    "subj3 = float(input(\"Enter marks of 3rd Subj :\"))\n",
    "subj4 = float(input(\"Enter marks of 4th Subj :\")) \n",
    "subj5 = float(input(\"Enter marks of 5th Subj :\")) \n",
    "Obtained_Marks = subj1+subj2+subj3+subj4+subj5\n",
    "Total_Marks = float(input(\"Enter the total marks:\"))\n",
    "percentage = (Obtained_Marks/Total_Marks)*100\n",
    "if percentage>= 80:\n",
    "    grade=\"A+\"\n",
    "elif 80<percentage>70:\n",
    "    grade=\"A\"\n",
    "elif 70<percentage>=60:\n",
    "    grade=\"B\"\n",
    "elif 60<percentage>=50:\n",
    "    grade=\"C\"\n",
    "else:\n",
    "    grade=\"Fail\"\n",
    "print(\"Total Marks =\",Total_Marks,\"\\nObtained Marks=\",Obtained_Marks,\"\\nPercetage=\",percentage, \"%\",\"\\nGrade=\",grade)\n"
   ]
  },
  {
   "cell_type": "markdown",
   "id": "4567ca93-2676-49c7-acd2-6927b763f26d",
   "metadata": {},
   "source": [
    "**Qno8: Write a program which take input from user and identify that the given number is even\n",
    "or odd?**"
   ]
  },
  {
   "cell_type": "code",
   "execution_count": 23,
   "id": "b82262a9-5b67-44af-97e2-13b5f3c7a11e",
   "metadata": {},
   "outputs": [
    {
     "name": "stdin",
     "output_type": "stream",
     "text": [
      "Enter a number:  95\n"
     ]
    },
    {
     "name": "stdout",
     "output_type": "stream",
     "text": [
      "95.0 is a odd number\n"
     ]
    }
   ],
   "source": [
    "x = float(input(\"Enter a number: \"))\n",
    "if x%2==0:\n",
    "    print(x, \"is a even number\")\n",
    "else:\n",
    "    print(x, \"is a odd number\")\n"
   ]
  },
  {
   "cell_type": "markdown",
   "id": "748aaa50-0e68-4884-adf8-b08d8c40a265",
   "metadata": {},
   "source": [
    "**Qno9. Write a program which print the length of the list**"
   ]
  },
  {
   "cell_type": "code",
   "execution_count": 26,
   "id": "fe11ecc5-4e67-4a87-9c36-971d41a1ac17",
   "metadata": {},
   "outputs": [
    {
     "data": {
      "text/plain": [
       "6"
      ]
     },
     "execution_count": 26,
     "metadata": {},
     "output_type": "execute_result"
    }
   ],
   "source": [
    "z = [1,2,3,4,5,6]\n",
    "len(z)"
   ]
  },
  {
   "cell_type": "markdown",
   "id": "ab0a514e-e952-4688-bdec-278a2d6317da",
   "metadata": {},
   "source": [
    "**Qno10. Write a Python program to sum all the numeric items in a list**"
   ]
  },
  {
   "cell_type": "code",
   "execution_count": 27,
   "id": "93c33c12-fc25-4ada-95c2-269d7580a2f9",
   "metadata": {},
   "outputs": [
    {
     "name": "stdout",
     "output_type": "stream",
     "text": [
      "The sum of all the numeric values are: 16\n"
     ]
    }
   ],
   "source": [
    "items = [\"Fruit\",2,\"Banana\",\"Ali\",7,\"Ahmed\",8,-1]\n",
    "sum=0\n",
    "for i in items:\n",
    "    if isinstance(i, (int,float)):\n",
    "        sum +=i\n",
    "print(\"The sum of all the numeric values are:\",sum)"
   ]
  },
  {
   "cell_type": "markdown",
   "id": "50f05954-ed62-4e6f-b144-1fafcef30093",
   "metadata": {},
   "source": [
    "**Qno11. Write a Python program to get the largest number from a numeric list.**"
   ]
  },
  {
   "cell_type": "code",
   "execution_count": 28,
   "id": "3c971368-47be-4c80-9dde-2d4b39dd9420",
   "metadata": {},
   "outputs": [
    {
     "name": "stdout",
     "output_type": "stream",
     "text": [
      "7\n"
     ]
    }
   ],
   "source": [
    "List = [1,2,3,4,5,6,7,-9]\n",
    "print(max(List))"
   ]
  },
  {
   "cell_type": "code",
   "execution_count": 29,
   "id": "2cf88ea0-883f-4e72-87c6-5f7a3c1bc78a",
   "metadata": {},
   "outputs": [
    {
     "name": "stdout",
     "output_type": "stream",
     "text": [
      "7\n"
     ]
    }
   ],
   "source": [
    "List = [1,2,3,4,5,6,7,-9]\n",
    "largest_num=List[0]\n",
    "for i in List:\n",
    "    if i>largest_num:\n",
    "        largest_num=i\n",
    "print(largest_num)"
   ]
  },
  {
   "cell_type": "markdown",
   "id": "e3ce479c-52a8-4487-b1cb-dcfdea7f4b20",
   "metadata": {},
   "source": [
    "**Qno12.Take a list, say for example this one:a = [1, 1, 2, 3, 5, 8, 13, 21, 34, 55, 89]Write a program that prints out all the elements of the list that are less than 5.**"
   ]
  },
  {
   "cell_type": "code",
   "execution_count": 31,
   "id": "985cda91-c30d-4716-8ebd-e0051e8a6f6d",
   "metadata": {},
   "outputs": [
    {
     "name": "stdout",
     "output_type": "stream",
     "text": [
      "1\n",
      "1\n",
      "2\n",
      "3\n"
     ]
    }
   ],
   "source": [
    "a = [1, 1, 2, 3, 5, 8, 13, 21, 34, 55, 89]\n",
    "for i in a:\n",
    "    if i<5:\n",
    "        print(i)"
   ]
  },
  {
   "cell_type": "code",
   "execution_count": 1,
   "id": "f9f38143-2bb2-4da1-b9a7-473bd4c5c6d3",
   "metadata": {},
   "outputs": [],
   "source": [
    "salary = [\"2k\",\"6k\",\"9k\",\"100k\"]"
   ]
  },
  {
   "cell_type": "code",
   "execution_count": 2,
   "id": "fe4d328c-d695-491c-8f15-b29723a0657c",
   "metadata": {},
   "outputs": [
    {
     "data": {
      "text/plain": [
       "['__add__',\n",
       " '__class__',\n",
       " '__class_getitem__',\n",
       " '__contains__',\n",
       " '__delattr__',\n",
       " '__delitem__',\n",
       " '__dir__',\n",
       " '__doc__',\n",
       " '__eq__',\n",
       " '__format__',\n",
       " '__ge__',\n",
       " '__getattribute__',\n",
       " '__getitem__',\n",
       " '__getstate__',\n",
       " '__gt__',\n",
       " '__hash__',\n",
       " '__iadd__',\n",
       " '__imul__',\n",
       " '__init__',\n",
       " '__init_subclass__',\n",
       " '__iter__',\n",
       " '__le__',\n",
       " '__len__',\n",
       " '__lt__',\n",
       " '__mul__',\n",
       " '__ne__',\n",
       " '__new__',\n",
       " '__reduce__',\n",
       " '__reduce_ex__',\n",
       " '__repr__',\n",
       " '__reversed__',\n",
       " '__rmul__',\n",
       " '__setattr__',\n",
       " '__setitem__',\n",
       " '__sizeof__',\n",
       " '__str__',\n",
       " '__subclasshook__',\n",
       " 'append',\n",
       " 'clear',\n",
       " 'copy',\n",
       " 'count',\n",
       " 'extend',\n",
       " 'index',\n",
       " 'insert',\n",
       " 'pop',\n",
       " 'remove',\n",
       " 'reverse',\n",
       " 'sort']"
      ]
     },
     "execution_count": 2,
     "metadata": {},
     "output_type": "execute_result"
    }
   ],
   "source": [
    "dir(list)"
   ]
  },
  {
   "cell_type": "code",
   "execution_count": 4,
   "id": "e8374d9b-5903-4df0-b20d-3491769d1ad9",
   "metadata": {},
   "outputs": [
    {
     "data": {
      "text/plain": [
       "['2k', '6k', '9k', '100k']"
      ]
     },
     "execution_count": 4,
     "metadata": {},
     "output_type": "execute_result"
    }
   ],
   "source": [
    "salary_1=salary.copy()\n",
    "salary_1"
   ]
  },
  {
   "cell_type": "code",
   "execution_count": 9,
   "id": "5405dcce-3ab0-40d8-a742-c0632f056536",
   "metadata": {},
   "outputs": [
    {
     "data": {
      "text/plain": [
       "['2k', '5k', '6k', '9k', '100k']"
      ]
     },
     "execution_count": 9,
     "metadata": {},
     "output_type": "execute_result"
    }
   ],
   "source": [
    "salary.insert(1,\"5k\")\n",
    "salary"
   ]
  },
  {
   "cell_type": "code",
   "execution_count": 10,
   "id": "734f0f27-3cc4-4177-937d-42cce6fff047",
   "metadata": {},
   "outputs": [],
   "source": [
    "salary.insert(2,\"5k\")"
   ]
  },
  {
   "cell_type": "code",
   "execution_count": 11,
   "id": "1ba904e7-e6f7-462f-bdc3-5d8706109c51",
   "metadata": {},
   "outputs": [
    {
     "data": {
      "text/plain": [
       "['2k', '5k', '5k', '6k', '9k', '100k']"
      ]
     },
     "execution_count": 11,
     "metadata": {},
     "output_type": "execute_result"
    }
   ],
   "source": [
    "salary"
   ]
  },
  {
   "cell_type": "code",
   "execution_count": 12,
   "id": "6160ad7d-c51f-44da-bb46-37b92ea299c3",
   "metadata": {},
   "outputs": [
    {
     "data": {
      "text/plain": [
       "1"
      ]
     },
     "execution_count": 12,
     "metadata": {},
     "output_type": "execute_result"
    }
   ],
   "source": [
    "salary.index(\"5k\")"
   ]
  },
  {
   "cell_type": "code",
   "execution_count": 13,
   "id": "ce350383-4641-4e6a-ac78-8b6fba1c6955",
   "metadata": {},
   "outputs": [
    {
     "data": {
      "text/plain": [
       "['2k', '5k', '6k', '9k', '100k']"
      ]
     },
     "execution_count": 13,
     "metadata": {},
     "output_type": "execute_result"
    }
   ],
   "source": [
    "salary.remove(\"5k\")\n",
    "salary"
   ]
  },
  {
   "cell_type": "code",
   "execution_count": 14,
   "id": "0e93c356-4186-47b4-bb8d-974c1b4ac0cc",
   "metadata": {},
   "outputs": [
    {
     "data": {
      "text/plain": [
       "['2k', '5k', '9k', '100k']"
      ]
     },
     "execution_count": 14,
     "metadata": {},
     "output_type": "execute_result"
    }
   ],
   "source": [
    "salary.pop(2)\n",
    "salary"
   ]
  },
  {
   "cell_type": "code",
   "execution_count": 15,
   "id": "963f4fb5-3207-4962-a19d-1c007a91f894",
   "metadata": {},
   "outputs": [],
   "source": [
    "salary.sort()"
   ]
  },
  {
   "cell_type": "code",
   "execution_count": 16,
   "id": "9e0abeed-5b15-4137-ad12-072b2ff08087",
   "metadata": {},
   "outputs": [
    {
     "data": {
      "text/plain": [
       "['100k', '2k', '5k', '9k']"
      ]
     },
     "execution_count": 16,
     "metadata": {},
     "output_type": "execute_result"
    }
   ],
   "source": [
    "salary"
   ]
  },
  {
   "cell_type": "code",
   "execution_count": 19,
   "id": "6d32f857-d534-4a93-991b-d0fa521c8f42",
   "metadata": {},
   "outputs": [
    {
     "data": {
      "text/plain": [
       "1"
      ]
     },
     "execution_count": 19,
     "metadata": {},
     "output_type": "execute_result"
    }
   ],
   "source": [
    "x= salary.count(\"2k\")\n",
    "x"
   ]
  },
  {
   "cell_type": "code",
   "execution_count": null,
   "id": "d7993a67-3eb9-4aa7-b7ac-e96e32478d02",
   "metadata": {},
   "outputs": [],
   "source": []
  }
 ],
 "metadata": {
  "kernelspec": {
   "display_name": "Python 3 (ipykernel)",
   "language": "python",
   "name": "python3"
  },
  "language_info": {
   "codemirror_mode": {
    "name": "ipython",
    "version": 3
   },
   "file_extension": ".py",
   "mimetype": "text/x-python",
   "name": "python",
   "nbconvert_exporter": "python",
   "pygments_lexer": "ipython3",
   "version": "3.12.4"
  }
 },
 "nbformat": 4,
 "nbformat_minor": 5
}
